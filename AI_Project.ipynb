{
  "nbformat": 4,
  "nbformat_minor": 0,
  "metadata": {
    "colab": {
      "provenance": [],
      "authorship_tag": "ABX9TyOuC3rpqoSoGDhwt+xLkYA2"
    },
    "kernelspec": {
      "name": "python3",
      "display_name": "Python 3"
    },
    "language_info": {
      "name": "python"
    }
  },
  "cells": [
    {
      "cell_type": "code",
      "source": [
        "import numpy as np\n",
        "\n",
        "# Define states: 0 = No symptom, 1 = Symptom present (Fever or Cough)\n",
        "states = ['No Symptom', 'Symptom Present']\n",
        "\n",
        "# Transition matrix for Fever\n",
        "# P(No Fever -> No Fever), P(No Fever -> Fever), P(Fever -> No Fever), P(Fever -> Fever)\n",
        "transition_fever = np.array([[0.8, 0.2],  # P(No Fever -> No Fever), P(No Fever -> Fever)\n",
        "                             [0.5, 0.5]]) # P(Fever -> No Fever), P(Fever -> Fever)\n",
        "\n",
        "# Transition matrix for Cough\n",
        "transition_cough = np.array([[0.7, 0.3],  # P(No Cough -> No Cough), P(No Cough -> Cough)\n",
        "                             [0.4, 0.6]]) # P(Cough -> No Cough), P(Cough -> Cough)\n",
        "\n",
        "# Initial state probabilities for both Fever and Cough\n",
        "initial_fever_prob = np.array([0.9, 0.1])  # P(No Fever) = 0.9, P(Fever) = 0.1\n",
        "initial_cough_prob = np.array([0.85, 0.15])  # P(No Cough) = 0.85, P(Cough) = 0.15\n",
        "def simulate_symptom(initial_prob, transition_prob, days):\n",
        "    n_states = len(initial_prob)\n",
        "    symptom_sequence = [np.random.choice([0, 1], p=initial_prob)]  # Initial state\n",
        "\n",
        "    for i in range(1, days):\n",
        "        last_symptom = symptom_sequence[-1]\n",
        "        next_symptom = np.random.choice([0, 1], p=transition_prob[last_symptom])\n",
        "        symptom_sequence.append(next_symptom)\n",
        "\n",
        "    return symptom_sequence\n",
        "\n",
        "# Simulate Fever and Cough progression over 7 days\n",
        "fever_sequence = simulate_symptom(initial_fever_prob, transition_fever, 7)\n",
        "cough_sequence = simulate_symptom(initial_cough_prob, transition_cough, 7)\n",
        "\n",
        "# Convert states to labels\n",
        "fever_labels = [states[i] for i in fever_sequence]\n",
        "cough_labels = [states[i] for i in cough_sequence]\n",
        "\n",
        "print(\"Fever progression over 7 days:\", fever_labels)\n",
        "print(\"Cough progression over 7 days:\", cough_labels)\n",
        "def forward_algorithm(initial_prob, transition_prob, days):\n",
        "    n_states = transition_prob.shape[0]\n",
        "\n",
        "    # Initialize forward probabilities matrix\n",
        "    forward = np.zeros((n_states, days))\n",
        "    forward[:, 0] = initial_prob  # At t=0, use initial probabilities\n",
        "\n",
        "    # Compute forward probabilities recursively\n",
        "    for t in range(1, days):\n",
        "        for s in range(n_states):\n",
        "            forward[s, t] = np.sum(forward[:, t-1] * transition_prob[:, s])\n",
        "\n",
        "    return forward\n",
        "\n",
        "# Run the forward algorithm for Fever and Cough progression\n",
        "fever_forward = forward_algorithm(initial_fever_prob, transition_fever, 7)\n",
        "cough_forward = forward_algorithm(initial_cough_prob, transition_cough, 7)\n",
        "\n",
        "print(\"Forward probabilities for Fever progression:\\n\", fever_forward)\n",
        "print(\"Forward probabilities for Cough progression:\\n\", cough_forward)\n"
      ],
      "metadata": {
        "colab": {
          "base_uri": "https://localhost:8080/"
        },
        "id": "fdowuVuNSyxW",
        "outputId": "73c60022-f140-47d8-c46a-b0661fea58a7"
      },
      "execution_count": 1,
      "outputs": [
        {
          "output_type": "stream",
          "name": "stdout",
          "text": [
            "Fever progression over 7 days: ['No Symptom', 'No Symptom', 'Symptom Present', 'No Symptom', 'Symptom Present', 'No Symptom', 'No Symptom']\n",
            "Cough progression over 7 days: ['No Symptom', 'No Symptom', 'No Symptom', 'No Symptom', 'No Symptom', 'Symptom Present', 'No Symptom']\n",
            "Forward probabilities for Fever progression:\n",
            " [[0.9       0.77      0.731     0.7193    0.71579   0.714737  0.7144211]\n",
            " [0.1       0.23      0.269     0.2807    0.28421   0.285263  0.2855789]]\n",
            "Forward probabilities for Cough progression:\n",
            " [[0.85       0.655      0.5965     0.57895    0.573685   0.5721055\n",
            "  0.57163165]\n",
            " [0.15       0.345      0.4035     0.42105    0.426315   0.4278945\n",
            "  0.42836835]]\n"
          ]
        }
      ]
    }
  ]
}